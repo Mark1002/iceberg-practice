{
 "cells": [
  {
   "cell_type": "code",
   "execution_count": 1,
   "metadata": {},
   "outputs": [
    {
     "name": "stdout",
     "output_type": "stream",
     "text": [
      "/Users/mark.chang/.pyenv/versions/3.11.3/envs/iceberg-practice-3.11.3/lib/python3.11/site-packages/pyiceberg/utils/deprecated.py:35: DeprecationWarning: Call to DEFAULT_MIN_SNAPSHOTS_TO_KEEP, deprecated in 0.8.0, will be removed in 0.9.0. DEFAULT_MIN_SNAPSHOTS_TO_KEEP is deprecated. Use TableProperties.MIN_SNAPSHOTS_TO_KEEP_DEFAULT instead..\n",
      "  _deprecation_warning(message)\n",
      "/Users/mark.chang/.pyenv/versions/3.11.3/envs/iceberg-practice-3.11.3/lib/python3.11/site-packages/pyiceberg/utils/deprecated.py:35: DeprecationWarning: Call to DEFAULT_MAX_SNAPSHOT_AGE_MS, deprecated in 0.8.0, will be removed in 0.9.0. DEFAULT_MAX_SNAPSHOT_AGE_MS is deprecated. Use TableProperties.MAX_SNAPSHOT_AGE_MS_DEFAULT instead..\n",
      "  _deprecation_warning(message)\n",
      "NoSuchTableException: Table does not exist: iot_sensor.equipment_data\n",
      "/Users/mark.chang/.pyenv/versions/3.11.3/envs/iceberg-practice-3.11.3/lib/python3.11/site-packages/pyiceberg/utils/deprecated.py:35: DeprecationWarning: Call to DEFAULT_MIN_SNAPSHOTS_TO_KEEP, deprecated in 0.8.0, will be removed in 0.9.0. DEFAULT_MIN_SNAPSHOTS_TO_KEEP is deprecated. Use TableProperties.MIN_SNAPSHOTS_TO_KEEP_DEFAULT instead..\n",
      "  _deprecation_warning(message)\n",
      "/Users/mark.chang/.pyenv/versions/3.11.3/envs/iceberg-practice-3.11.3/lib/python3.11/site-packages/pyiceberg/utils/deprecated.py:35: DeprecationWarning: Call to DEFAULT_MAX_SNAPSHOT_AGE_MS, deprecated in 0.8.0, will be removed in 0.9.0. DEFAULT_MAX_SNAPSHOT_AGE_MS is deprecated. Use TableProperties.MAX_SNAPSHOT_AGE_MS_DEFAULT instead..\n",
      "  _deprecation_warning(message)\n",
      "NoSuchNamespaceException: Namespace does not exist: iot_sensor\n"
     ]
    }
   ],
   "source": [
    "# Remove iceberg namespace and table first\n",
    "!pyiceberg --uri http://127.0.0.1:19120/iceberg/main/ drop table iot_sensor.equipment_data\n",
    "!pyiceberg --uri http://127.0.0.1:19120/iceberg/main/ drop namespace iot_sensor"
   ]
  },
  {
   "cell_type": "code",
   "execution_count": 2,
   "metadata": {},
   "outputs": [
    {
     "name": "stdout",
     "output_type": "stream",
     "text": [
      "Namespaces: []\n"
     ]
    }
   ],
   "source": [
    "from pyiceberg.catalog import load_catalog\n",
    "\n",
    "# Connect to nessie catalog With Iceberg REST\n",
    "catalog = load_catalog(\n",
    "    \"nessie\",\n",
    "    **{\n",
    "        \"uri\": \"http://127.0.0.1:19120/iceberg/main/\",\n",
    "        \"py-io-impl\": \"pyiceberg.io.pyarrow.PyArrowFileIO\",\n",
    "        \"s3.access-key-id\": \"admin\",\n",
    "        \"s3.secret-access-key\": \"password\",\n",
    "    }\n",
    ")\n",
    "\n",
    "# Verify connection by listing namespaces\n",
    "namespaces = catalog.list_namespaces()\n",
    "print(\"Namespaces:\", namespaces)\n"
   ]
  },
  {
   "cell_type": "code",
   "execution_count": 3,
   "metadata": {},
   "outputs": [
    {
     "name": "stdout",
     "output_type": "stream",
     "text": [
      "table schema:\n",
      " Timestamp: timestamp[s]\n",
      "Temperature (°C): double\n",
      "Vibration (mm/s): double\n",
      "Pressure (Pa): double\n",
      "RPM: double\n",
      "Maintenance Required: int64\n",
      "Temp_Change: double\n",
      "Vib_Change: double \n",
      "\n",
      "table shape:\n",
      " (43800, 8)\n"
     ]
    }
   ],
   "source": [
    "from pyarrow import csv\n",
    "\n",
    "filepath = \"data/raw/equipment_data.csv\"\n",
    "df = csv.read_csv(filepath)\n",
    "\n",
    "print(\"table schema:\\n\", df.schema, \"\\n\")\n",
    "print(\"table shape:\\n\", df.shape)"
   ]
  },
  {
   "cell_type": "code",
   "execution_count": 4,
   "metadata": {},
   "outputs": [],
   "source": [
    "catalog.create_namespace(\"iot_sensor\")\n",
    "\n",
    "table = catalog.create_table(\n",
    "    \"iot_sensor.equipment_data\",\n",
    "    schema=df.schema,\n",
    ")"
   ]
  },
  {
   "cell_type": "code",
   "execution_count": 5,
   "metadata": {},
   "outputs": [
    {
     "data": {
      "text/plain": [
       "equipment_data(\n",
       "  1: Timestamp: optional timestamp,\n",
       "  2: Temperature (°C): optional double,\n",
       "  3: Vibration (mm/s): optional double,\n",
       "  4: Pressure (Pa): optional double,\n",
       "  5: RPM: optional double,\n",
       "  6: Maintenance Required: optional long,\n",
       "  7: Temp_Change: optional double,\n",
       "  8: Vib_Change: optional double\n",
       "),\n",
       "partition by: [],\n",
       "sort order: [],\n",
       "snapshot: null"
      ]
     },
     "execution_count": 5,
     "metadata": {},
     "output_type": "execute_result"
    }
   ],
   "source": [
    "table = catalog.load_table(\"iot_sensor.equipment_data\")\n",
    "table"
   ]
  },
  {
   "cell_type": "code",
   "execution_count": 6,
   "metadata": {},
   "outputs": [
    {
     "name": "stderr",
     "output_type": "stream",
     "text": [
      "/Users/mark.chang/.pyenv/versions/iceberg-practice-3.11.3/lib/python3.11/site-packages/pyiceberg/utils/deprecated.py:54: DeprecationWarning: Deprecated in 0.8.0, will be removed in 0.9.0. Table.identifier property is deprecated. Please use Table.name() function instead.\n",
      "  _deprecation_warning(deprecation_notice(deprecated_in, removed_in, help_message))\n",
      "/Users/mark.chang/.pyenv/versions/iceberg-practice-3.11.3/lib/python3.11/site-packages/pyiceberg/utils/deprecated.py:54: DeprecationWarning: Deprecated in 0.8.0, will be removed in 0.9.0. Support for parsing catalog level identifier in Catalog identifiers is deprecated. Please refer to the table using only its namespace and its table name.\n",
      "  _deprecation_warning(deprecation_notice(deprecated_in, removed_in, help_message))\n"
     ]
    }
   ],
   "source": [
    "# Load data to iceberg table\n",
    "# If you execute code in local you need to add `127.0.0.1 minio` dns record into /etc/hosts file.\n",
    "table.append(df)"
   ]
  }
 ],
 "metadata": {
  "kernelspec": {
   "display_name": "iceberg-practice-3.11.3",
   "language": "python",
   "name": "python3"
  },
  "language_info": {
   "codemirror_mode": {
    "name": "ipython",
    "version": 3
   },
   "file_extension": ".py",
   "mimetype": "text/x-python",
   "name": "python",
   "nbconvert_exporter": "python",
   "pygments_lexer": "ipython3",
   "version": "3.11.3"
  }
 },
 "nbformat": 4,
 "nbformat_minor": 2
}
